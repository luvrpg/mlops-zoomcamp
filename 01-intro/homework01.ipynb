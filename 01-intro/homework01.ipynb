{
 "cells": [
  {
   "cell_type": "code",
   "execution_count": 1,
   "metadata": {},
   "outputs": [],
   "source": [
    "import os\n",
    "import pickle\n",
    "import pandas as pd\n",
    "import seaborn as sns\n",
    "import matplotlib.pyplot as plt\n",
    "\n",
    "from sklearn.feature_extraction import DictVectorizer\n",
    "from sklearn.linear_model import LinearRegression\n",
    "from sklearn.metrics import mean_squared_error"
   ]
  },
  {
   "cell_type": "code",
   "execution_count": 2,
   "metadata": {},
   "outputs": [],
   "source": [
    "def read_parquet_data(filepath: str, preprocess: bool = False) -> pd.DataFrame:\n",
    "    if not os.path.exists(filepath):\n",
    "        print(\"No such file exists!\")\n",
    "        return\n",
    "        \n",
    "    try:\n",
    "        df = pd.read_parquet(filepath)\n",
    "    except Exception:\n",
    "        print(\"Provide correct .parquet data!\")\n",
    "        return\n",
    "    \n",
    "    df[\"duration\"] = df.dropOff_datetime - df.pickup_datetime\n",
    "    df.duration = df.duration.apply(lambda td: td.total_seconds() / 60)\n",
    "    \n",
    "    if preprocess:\n",
    "        # filter out trips that took less than one minute and more than one hour\n",
    "        df = df[(df.duration >= 1) & (df.duration <= 60)]\n",
    "         \n",
    "        # replace missing pickup and drop off location ids with -1\n",
    "        df.PUlocationID = df.PUlocationID.fillna(-1)\n",
    "        df.DOlocationID = df.DOlocationID.fillna(-1)\n",
    "        \n",
    "        # convert categorical features to strings\n",
    "        categorical = [\"PUlocationID\", \"DOlocationID\"]\n",
    "        df[categorical] = df[categorical].astype(str)\n",
    "        \n",
    "    return df    "
   ]
  },
  {
   "cell_type": "code",
   "execution_count": 3,
   "metadata": {},
   "outputs": [
    {
     "name": "stdout",
     "output_type": "stream",
     "text": [
      "Number of rows in training data: 1154112\n",
      "Number of rows in validation data: 1037692\n"
     ]
    }
   ],
   "source": [
    "# load train and validaton data\n",
    "train_df = read_parquet_data(\"../mlops-zoomcamp/data/fhv_tripdata_2021-01.parquet\")\n",
    "val_df = read_parquet_data(\"../mlops-zoomcamp/data/fhv_tripdata_2021-02.parquet\")\n",
    "\n",
    "print(f\"Number of rows in training data: {train_df.shape[0]}\")\n",
    "print(f\"Number of rows in validation data: {val_df.shape[0]}\")"
   ]
  },
  {
   "cell_type": "code",
   "execution_count": 4,
   "metadata": {},
   "outputs": [
    {
     "name": "stdout",
     "output_type": "stream",
     "text": [
      "Average duration in training data: 19.167224093791006\n",
      "Average duration in validation data: 20.706986225199763\n"
     ]
    }
   ],
   "source": [
    "# find average trip duration\n",
    "print(f\"Average duration in training data: {train_df.duration.mean()}\")\n",
    "print(f\"Average duration in validation data: {val_df.duration.mean()}\")"
   ]
  },
  {
   "cell_type": "code",
   "execution_count": 5,
   "metadata": {},
   "outputs": [
    {
     "name": "stderr",
     "output_type": "stream",
     "text": [
      "/mnt/c/Users/Sokol/Desktop/mlops-zoomcamp/venv/lib/python3.8/site-packages/seaborn/distributions.py:2619: FutureWarning: `distplot` is a deprecated function and will be removed in a future version. Please adapt your code to use either `displot` (a figure-level function with similar flexibility) or `histplot` (an axes-level function for histograms).\n",
      "  warnings.warn(msg, FutureWarning)\n",
      "/mnt/c/Users/Sokol/Desktop/mlops-zoomcamp/venv/lib/python3.8/site-packages/seaborn/distributions.py:2619: FutureWarning: `distplot` is a deprecated function and will be removed in a future version. Please adapt your code to use either `displot` (a figure-level function with similar flexibility) or `histplot` (an axes-level function for histograms).\n",
      "  warnings.warn(msg, FutureWarning)\n"
     ]
    },
    {
     "data": {
      "text/plain": [
       "<matplotlib.legend.Legend at 0x7f8d7ea29700>"
      ]
     },
     "execution_count": 5,
     "metadata": {},
     "output_type": "execute_result"
    },
    {
     "data": {
      "image/png": "[encoded data removed]",
      "text/plain": [
       "<Figure size 432x288 with 1 Axes>"
      ]
     },
     "metadata": {
      "needs_background": "light"
     },
     "output_type": "display_data"
    }
   ],
   "source": [
    "# show duration distribution \n",
    "sns.distplot(train_df.duration, label='training')\n",
    "sns.distplot(val_df.duration, label='validation')\n",
    "plt.legend()"
   ]
  },
  {
   "cell_type": "code",
   "execution_count": 6,
   "metadata": {},
   "outputs": [
    {
     "name": "stdout",
     "output_type": "stream",
     "text": [
      "Number of rows in training data: 1109826\n",
      "Number of rows in validation data: 990113\n"
     ]
    },
    {
     "name": "stderr",
     "output_type": "stream",
     "text": [
      "/mnt/c/Users/Sokol/Desktop/mlops-zoomcamp/venv/lib/python3.8/site-packages/seaborn/distributions.py:2619: FutureWarning: `distplot` is a deprecated function and will be removed in a future version. Please adapt your code to use either `displot` (a figure-level function with similar flexibility) or `histplot` (an axes-level function for histograms).\n",
      "  warnings.warn(msg, FutureWarning)\n",
      "/mnt/c/Users/Sokol/Desktop/mlops-zoomcamp/venv/lib/python3.8/site-packages/seaborn/distributions.py:2619: FutureWarning: `distplot` is a deprecated function and will be removed in a future version. Please adapt your code to use either `displot` (a figure-level function with similar flexibility) or `histplot` (an axes-level function for histograms).\n",
      "  warnings.warn(msg, FutureWarning)\n"
     ]
    },
    {
     "data": {
      "text/plain": [
       "<matplotlib.legend.Legend at 0x7f8d7fffee80>"
      ]
     },
     "execution_count": 6,
     "metadata": {},
     "output_type": "execute_result"
    },
    {
     "data": {
      "image/png": "[encoded data removed]",
      "text/plain": [
       "<Figure size 432x288 with 1 Axes>"
      ]
     },
     "metadata": {
      "needs_background": "light"
     },
     "output_type": "display_data"
    }
   ],
   "source": [
    "# read preprocessed data (with duration validation) and check distributions once again\n",
    "train_df = read_parquet_data(\"../mlops-zoomcamp/data/fhv_tripdata_2021-01.parquet\", preprocess=True)\n",
    "val_df = read_parquet_data(\"../mlops-zoomcamp/data/fhv_tripdata_2021-02.parquet\", preprocess=True)\n",
    "\n",
    "print(f\"Number of rows in training data: {train_df.shape[0]}\")\n",
    "print(f\"Number of rows in validation data: {val_df.shape[0]}\")\n",
    "\n",
    "sns.distplot(train_df.duration, label='training')\n",
    "sns.distplot(val_df.duration, label='validation')\n",
    "plt.legend()"
   ]
  },
  {
   "cell_type": "code",
   "execution_count": 7,
   "metadata": {},
   "outputs": [
    {
     "name": "stdout",
     "output_type": "stream",
     "text": [
      "Fractions of values in pickup location ids of training data:\n",
      " -1.0     8.352733e-01\n",
      "221.0    7.505681e-03\n",
      "206.0    6.124383e-03\n",
      "129.0    4.846706e-03\n",
      "115.0    3.678054e-03\n",
      "             ...     \n",
      "111.0    4.505211e-06\n",
      "27.0     3.604169e-06\n",
      "34.0     2.703126e-06\n",
      "2.0      1.802084e-06\n",
      "110.0    9.010421e-07\n",
      "Name: PUlocationID, Length: 262, dtype: float64\n",
      "\n",
      "\n",
      "Fractions of values in drop off location ids of training data:\n",
      " -1.0     1.332704e-01\n",
      "76.0     2.376499e-02\n",
      "217.0    1.755951e-02\n",
      "265.0    1.678461e-02\n",
      "17.0     1.659900e-02\n",
      "             ...     \n",
      "27.0     1.621876e-05\n",
      "30.0     1.171355e-05\n",
      "2.0      9.911464e-06\n",
      "105.0    3.604169e-06\n",
      "199.0    9.010421e-07\n",
      "Name: DOlocationID, Length: 263, dtype: float64\n"
     ]
    }
   ],
   "source": [
    "# find fraction of missing pickup values\n",
    "print(f\"Fractions of values in pickup location ids of training data:\\n {train_df.PUlocationID.value_counts(normalize=True)}\")\n",
    "print(f\"\\n\\nFractions of values in drop off location ids of training data:\\n {train_df.DOlocationID.value_counts(normalize=True)}\")"
   ]
  },
  {
   "cell_type": "code",
   "execution_count": 8,
   "metadata": {},
   "outputs": [
    {
     "name": "stdout",
     "output_type": "stream",
     "text": [
      "(1109826, 525)\n",
      "(990113, 525)\n"
     ]
    }
   ],
   "source": [
    "# apply one hot encoding to categorical features\n",
    "categorical = [\"PUlocationID\", \"DOlocationID\"]\n",
    "\n",
    "train_dicts = train_df[categorical].to_dict(orient=\"records\")\n",
    "val_dicts = val_df[categorical].to_dict(orient=\"records\")\n",
    "dv = DictVectorizer()\n",
    "\n",
    "x_train = dv.fit_transform(train_dicts)\n",
    "x_val = dv.transform(val_dicts)\n",
    "\n",
    "print(x_train.shape)\n",
    "print(x_val.shape)"
   ]
  },
  {
   "cell_type": "code",
   "execution_count": 9,
   "metadata": {},
   "outputs": [
    {
     "data": {
      "text/html": [
       "<style>#sk-container-id-1 {color: black;background-color: white;}#sk-container-id-1 pre{padding: 0;}#sk-container-id-1 div.sk-toggleable {background-color: white;}#sk-container-id-1 label.sk-toggleable__label {cursor: pointer;display: block;width: 100%;margin-bottom: 0;padding: 0.3em;box-sizing: border-box;text-align: center;}#sk-container-id-1 label.sk-toggleable__label-arrow:before {content: \"▸\";float: left;margin-right: 0.25em;color: #696969;}#sk-container-id-1 label.sk-toggleable__label-arrow:hover:before {color: black;}#sk-container-id-1 div.sk-estimator:hover label.sk-toggleable__label-arrow:before {color: black;}#sk-container-id-1 div.sk-toggleable__content {max-height: 0;max-width: 0;overflow: hidden;text-align: left;background-color: #f0f8ff;}#sk-container-id-1 div.sk-toggleable__content pre {margin: 0.2em;color: black;border-radius: 0.25em;background-color: #f0f8ff;}#sk-container-id-1 input.sk-toggleable__control:checked~div.sk-toggleable__content {max-height: 200px;max-width: 100%;overflow: auto;}#sk-container-id-1 input.sk-toggleable__control:checked~label.sk-toggleable__label-arrow:before {content: \"▾\";}#sk-container-id-1 div.sk-estimator input.sk-toggleable__control:checked~label.sk-toggleable__label {background-color: #d4ebff;}#sk-container-id-1 div.sk-label input.sk-toggleable__control:checked~label.sk-toggleable__label {background-color: #d4ebff;}#sk-container-id-1 input.sk-hidden--visually {border: 0;clip: rect(1px 1px 1px 1px);clip: rect(1px, 1px, 1px, 1px);height: 1px;margin: -1px;overflow: hidden;padding: 0;position: absolute;width: 1px;}#sk-container-id-1 div.sk-estimator {font-family: monospace;background-color: #f0f8ff;border: 1px dotted black;border-radius: 0.25em;box-sizing: border-box;margin-bottom: 0.5em;}#sk-container-id-1 div.sk-estimator:hover {background-color: #d4ebff;}#sk-container-id-1 div.sk-parallel-item::after {content: \"\";width: 100%;border-bottom: 1px solid gray;flex-grow: 1;}#sk-container-id-1 div.sk-label:hover label.sk-toggleable__label {background-color: #d4ebff;}#sk-container-id-1 div.sk-serial::before {content: \"\";position: absolute;border-left: 1px solid gray;box-sizing: border-box;top: 0;bottom: 0;left: 50%;z-index: 0;}#sk-container-id-1 div.sk-serial {display: flex;flex-direction: column;align-items: center;background-color: white;padding-right: 0.2em;padding-left: 0.2em;position: relative;}#sk-container-id-1 div.sk-item {position: relative;z-index: 1;}#sk-container-id-1 div.sk-parallel {display: flex;align-items: stretch;justify-content: center;background-color: white;position: relative;}#sk-container-id-1 div.sk-item::before, #sk-container-id-1 div.sk-parallel-item::before {content: \"\";position: absolute;border-left: 1px solid gray;box-sizing: border-box;top: 0;bottom: 0;left: 50%;z-index: -1;}#sk-container-id-1 div.sk-parallel-item {display: flex;flex-direction: column;z-index: 1;position: relative;background-color: white;}#sk-container-id-1 div.sk-parallel-item:first-child::after {align-self: flex-end;width: 50%;}#sk-container-id-1 div.sk-parallel-item:last-child::after {align-self: flex-start;width: 50%;}#sk-container-id-1 div.sk-parallel-item:only-child::after {width: 0;}#sk-container-id-1 div.sk-dashed-wrapped {border: 1px dashed gray;margin: 0 0.4em 0.5em 0.4em;box-sizing: border-box;padding-bottom: 0.4em;background-color: white;}#sk-container-id-1 div.sk-label label {font-family: monospace;font-weight: bold;display: inline-block;line-height: 1.2em;}#sk-container-id-1 div.sk-label-container {text-align: center;}#sk-container-id-1 div.sk-container {/* jupyter's `normalize.less` sets `[hidden] { display: none; }` but bootstrap.min.css set `[hidden] { display: none !important; }` so we also need the `!important` here to be able to override the default hidden behavior on the sphinx rendered scikit-learn.org. See: https://github.com/scikit-learn/scikit-learn/issues/21755 */display: inline-block !important;position: relative;}#sk-container-id-1 div.sk-text-repr-fallback {display: none;}</style><div id=\"sk-container-id-1\" class=\"sk-top-container\"><div class=\"sk-text-repr-fallback\"><pre>LinearRegression()</pre><b>In a Jupyter environment, please rerun this cell to show the HTML representation or trust the notebook. <br />On GitHub, the HTML representation is unable to render, please try loading this page with nbviewer.org.</b></div><div class=\"sk-container\" hidden><div class=\"sk-item\"><div class=\"sk-estimator sk-toggleable\"><input class=\"sk-toggleable__control sk-hidden--visually\" id=\"sk-estimator-id-1\" type=\"checkbox\" checked><label for=\"sk-estimator-id-1\" class=\"sk-toggleable__label sk-toggleable__label-arrow\">LinearRegression</label><div class=\"sk-toggleable__content\"><pre>LinearRegression()</pre></div></div></div></div></div>"
      ],
      "text/plain": [
       "LinearRegression()"
      ]
     },
     "execution_count": 9,
     "metadata": {},
     "output_type": "execute_result"
    }
   ],
   "source": [
    "# train the linear model\n",
    "y_train = train_df.duration.values\n",
    "y_val = val_df.duration.values\n",
    "\n",
    "model = LinearRegression()\n",
    "model.fit(x_train, y_train)"
   ]
  },
  {
   "cell_type": "code",
   "execution_count": 10,
   "metadata": {},
   "outputs": [
    {
     "name": "stdout",
     "output_type": "stream",
     "text": [
      "RMSE on training data: 10.52851938944385\n",
      "RMSE on validation data: 11.014286426107942\n"
     ]
    }
   ],
   "source": [
    "# get the predictions and calculate mean squared error\n",
    "y_pred_train = model.predict(x_train)\n",
    "y_pred_val = model.predict(x_val)\n",
    "\n",
    "rmse_train = mean_squared_error(y_train, y_pred_train, squared=False)\n",
    "rmse_val = mean_squared_error(y_val, y_pred_val, squared=False)\n",
    "\n",
    "print(f\"RMSE on training data: {rmse_train}\")\n",
    "print(f\"RMSE on validation data: {rmse_val}\")"
   ]
  },
  {
   "cell_type": "code",
   "execution_count": 11,
   "metadata": {},
   "outputs": [],
   "source": [
    "with open(\"../models/lin_reg_homework01.bin\", \"wb\") as f_out:\n",
    "    pickle.dump((dv, model), f_out)"
   ]
  }
 ],
 "metadata": {
  "kernelspec": {
   "display_name": "mlops",
   "language": "python",
   "name": "mlops"
  },
  "language_info": {
   "codemirror_mode": {
    "name": "ipython",
    "version": 3
   },
   "file_extension": ".py",
   "mimetype": "text/x-python",
   "name": "python",
   "nbconvert_exporter": "python",
   "pygments_lexer": "ipython3",
   "version": "3.8.5"
  }
 },
 "nbformat": 4,
 "nbformat_minor": 4
}
